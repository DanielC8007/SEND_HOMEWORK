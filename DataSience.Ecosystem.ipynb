{
 "cells": [
  {
   "cell_type": "markdown",
   "id": "4561ad60-f351-41ef-8dc5-cef6e8456901",
   "metadata": {},
   "source": [
    "# Data Sience Tools and Ecosystem"
   ]
  },
  {
   "cell_type": "markdown",
   "id": "a96431df-3964-4f99-a42e-c2ed1b7aff82",
   "metadata": {},
   "source": [
    "## In this notebook, Data Sience Tools and Ecosystem are summarized."
   ]
  },
  {
   "cell_type": "markdown",
   "id": "64354500-9fa8-4e7b-8023-83ab84cb81df",
   "metadata": {},
   "source": [
    "## **Objectives**\n",
    "- List popular languages for Data Sciences.\n",
    "- List commonly Libraries used by Data Scientits.\n",
    "- Create cells with arithmetic expressions(multiply, add and diving)."
   ]
  },
  {
   "cell_type": "markdown",
   "id": "11544db9-1a91-4eb9-b31e-3d30e881e7fa",
   "metadata": {},
   "source": [
    "### Some of the popular languages that Data Siences use are:"
   ]
  },
  {
   "cell_type": "markdown",
   "id": "08cdb672-563d-48f4-9cab-bf74447bc226",
   "metadata": {},
   "source": [
    "1. Python\n",
    "2. R\n",
    "3. SQL\n",
    "4. C++\n",
    "5. Julia"
   ]
  },
  {
   "cell_type": "markdown",
   "id": "f1483f2c-29ec-4e76-99f6-53f220435d77",
   "metadata": {},
   "source": [
    "### Some of commonly used libraries used by Data Scientits include:"
   ]
  },
  {
   "cell_type": "markdown",
   "id": "97690e07-e7bf-43d7-82bb-b908562c3445",
   "metadata": {},
   "source": [
    "1. Pandas\n",
    "2. NumPy\n",
    "3. TensorFlow\n",
    "4. Apache Spark\n",
    "5. ggplot2"
   ]
  },
  {
   "cell_type": "markdown",
   "id": "3d0e24fe-3a78-49a4-8830-f3bd26495615",
   "metadata": {},
   "source": [
    "| Data Scienes Tool |\n",
    "|-------------------|\n",
    "| MySQL |\n",
    "| MongoDB |\n",
    "|Apache Casandra |\n",
    " | Hadoop |"
   ]
  },
  {
   "cell_type": "markdown",
   "id": "b94095a1-46f4-4b12-a4be-a11d4a1c9bce",
   "metadata": {},
   "source": [
    "### Below are few examples of evaluating arithmetic expressions in Python"
   ]
  },
  {
   "cell_type": "code",
   "execution_count": 1,
   "id": "cdad5c6d-a72a-484f-9170-37ba7c22c854",
   "metadata": {},
   "outputs": [
    {
     "data": {
      "text/plain": [
       "17"
      ]
     },
     "execution_count": 1,
     "metadata": {},
     "output_type": "execute_result"
    }
   ],
   "source": [
    "## This a simple arithmetic expression to multiply then and integers\n",
    "(3*4)+5"
   ]
  },
  {
   "cell_type": "code",
   "execution_count": 2,
   "id": "5c6f4e8d-7262-43c4-b057-3b8d4e4374f6",
   "metadata": {},
   "outputs": [
    {
     "data": {
      "text/plain": [
       "3.3333333333333335"
      ]
     },
     "execution_count": 2,
     "metadata": {},
     "output_type": "execute_result"
    }
   ],
   "source": [
    "## This will convert 200 minutes to hours by dividing by 60.\n",
    "200/60"
   ]
  },
  {
   "cell_type": "markdown",
   "id": "432be2d2-2fc4-4c47-82e9-512a7c2708e8",
   "metadata": {},
   "source": [
    "## Author\n",
    "# Daniel Conde"
   ]
  },
  {
   "cell_type": "code",
   "execution_count": null,
   "id": "997fb7e0-7147-4bf3-866f-09676dee58cb",
   "metadata": {},
   "outputs": [],
   "source": []
  }
 ],
 "metadata": {
  "kernelspec": {
   "display_name": "Python 3 (ipykernel)",
   "language": "python",
   "name": "python3"
  },
  "language_info": {
   "codemirror_mode": {
    "name": "ipython",
    "version": 3
   },
   "file_extension": ".py",
   "mimetype": "text/x-python",
   "name": "python",
   "nbconvert_exporter": "python",
   "pygments_lexer": "ipython3",
   "version": "3.12.8"
  }
 },
 "nbformat": 4,
 "nbformat_minor": 5
}
